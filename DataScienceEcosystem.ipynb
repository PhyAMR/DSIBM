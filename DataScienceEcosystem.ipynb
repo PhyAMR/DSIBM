{
 "cells": [
  {
   "cell_type": "markdown",
   "metadata": {},
   "source": [
    "# Data Science Tools and Ecosystem"
   ]
  },
  {
   "cell_type": "markdown",
   "metadata": {},
   "source": [
    "In this notebook, Data Science Tools and Ecosystem are summarized.\n",
    "\n",
    "In this notebook we will see how to use different tools and ecosystem in Data Science. Despite the fact that there are many \n",
    "tools and ecosystem in Data Science, we will focus on the most popular ones. That where teached in the course."
   ]
  },
  {
   "cell_type": "markdown",
   "metadata": {},
   "source": [
    "Some of the popular languages that Data Scientists use are:\n",
    "\n",
    "1. Python\n",
    "2. R\n",
    "3. Scala\n",
    "4. SQL\n",
    "5. Java\n",
    "6. Julia\n",
    "7. SAS\n",
    "8. Stata"
   ]
  },
  {
   "cell_type": "markdown",
   "metadata": {},
   "source": [
    "__Objectives:__\n",
    "- Learn the basics of Python programming language\n",
    "- Learn the basics of data science and data analysis\n",
    "- Learn the basics of data visualization and data manipulation\n",
    "- Learn the basics of markdown and GitHub"
   ]
  },
  {
   "cell_type": "markdown",
   "metadata": {},
   "source": [
    "Some of the commonly used libraries used by Data Scientists include:\n",
    "\n",
    " 1. NumPy: A library for numerical computing with Python.\n",
    " 2. Pandas: A library for data manipulation and analysis.\n",
    " 3. Matplotlib: A library for creating static, animated, and interactive visualizations.\n",
    " 4. Seaborn: A library for creating statistical graphics.\n",
    " 5. Scikit-learn: A library for machine learning.\n",
    " 6. TensorFlow: A library for building and training deep neural networks.\n",
    " 7. Keras: A high-level neural networks API, written in Python and capable of running on top of TensorFlow."
   ]
  },
  {
   "cell_type": "markdown",
   "metadata": {},
   "source": [
    "|Data Science Tools|\n",
    "------------------|\n",
    "|Virtual Environment|\n",
    "|Conda|\n",
    "|Jupyter Notebook|\n"
   ]
  },
  {
   "cell_type": "markdown",
   "metadata": {},
   "source": [
    "### Below are a few examples of evaluating arithmetic expressions in Python.\n",
    "\n"
   ]
  },
  {
   "cell_type": "code",
   "execution_count": 1,
   "metadata": {},
   "outputs": [
    {
     "name": "stdout",
     "output_type": "stream",
     "text": [
      "17\n"
     ]
    }
   ],
   "source": [
    "def f(n1,n2,n3):\n",
    "    \"\"\" This a simple arithmetic expression to mutiply then add integers \"\"\"\n",
    "    return n1*n2+n3\n",
    "\n",
    "print(f(3,4,5)) "
   ]
  },
  {
   "cell_type": "code",
   "execution_count": 2,
   "metadata": {},
   "outputs": [
    {
     "name": "stdout",
     "output_type": "stream",
     "text": [
      "3.3333333333333335\n"
     ]
    }
   ],
   "source": [
    "def f2(minutes):\n",
    "    \"\"\" This will convert 200 minutes to hours by diving by 60 \"\"\"\n",
    "    hours = minutes / 60\n",
    "    return hours\n",
    "\n",
    "print(f2(200)) "
   ]
  },
  {
   "cell_type": "markdown",
   "metadata": {},
   "source": [
    "## Author: \n",
    "Álvaro Méndez"
   ]
  }
 ],
 "metadata": {
  "kernelspec": {
   "display_name": ".venv",
   "language": "python",
   "name": "python3"
  },
  "language_info": {
   "codemirror_mode": {
    "name": "ipython",
    "version": 3
   },
   "file_extension": ".py",
   "mimetype": "text/x-python",
   "name": "python",
   "nbconvert_exporter": "python",
   "pygments_lexer": "ipython3",
   "version": "3.11.8"
  }
 },
 "nbformat": 4,
 "nbformat_minor": 2
}
